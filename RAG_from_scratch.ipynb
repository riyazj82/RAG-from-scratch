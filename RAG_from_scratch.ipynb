{
  "nbformat": 4,
  "nbformat_minor": 0,
  "metadata": {
    "colab": {
      "provenance": [],
      "gpuType": "T4"
    },
    "kernelspec": {
      "name": "python3",
      "display_name": "Python 3"
    },
    "language_info": {
      "name": "python"
    },
    "accelerator": "GPU"
  },
  "cells": [
    {
      "cell_type": "code",
      "execution_count": 1,
      "metadata": {
        "id": "Wmt6u1VKJY61"
      },
      "outputs": [],
      "source": [
        "corpus_of_documents = [\n",
        "    \"Take a stroll along the beach and feel the sand between your toes.\",\n",
        "    \"Explore a nearby forest and marvel at the towering trees.\",\n",
        "    \"Join a photography club and capture the beauty of the world.\",\n",
        "    \"Volunteer at a local charity and make a positive difference.\",\n",
        "    \"Attend a cooking class and learn to create delicious dishes.\",\n",
        "    \"Visit an art gallery and immerse yourself in creativity.\",\n",
        "    \"Go on a road trip and discover hidden gems along the way.\",\n",
        "    \"Take a dance lesson and let music guide your movements.\",\n",
        "    \"Host a game night with friends and enjoy friendly competition.\",\n",
        "    \"Attend a meditation retreat and find inner peace.\"\n",
        "]"
      ]
    },
    {
      "cell_type": "code",
      "source": [
        "user_query=\"i am an indian and i live in india\""
      ],
      "metadata": {
        "id": "b0ubHBr2PvCc"
      },
      "execution_count": 2,
      "outputs": []
    },
    {
      "cell_type": "code",
      "source": [
        "document=\"india is a country for indians and for everyone\""
      ],
      "metadata": {
        "id": "zCUF09NGQw9g"
      },
      "execution_count": 3,
      "outputs": []
    },
    {
      "cell_type": "code",
      "source": [
        "from collections import Counter\n",
        "import math"
      ],
      "metadata": {
        "id": "o3mSBkP3Q00t"
      },
      "execution_count": 4,
      "outputs": []
    },
    {
      "cell_type": "code",
      "source": [
        "query_tokens=user_query.lower().split(\" \")"
      ],
      "metadata": {
        "id": "L-hF__J6Q40j"
      },
      "execution_count": 5,
      "outputs": []
    },
    {
      "cell_type": "code",
      "source": [
        "query_tokens"
      ],
      "metadata": {
        "colab": {
          "base_uri": "https://localhost:8080/"
        },
        "id": "OsWL2fd4Q8tT",
        "outputId": "24058312-9290-424d-f1b4-4bc781f03bd1"
      },
      "execution_count": 6,
      "outputs": [
        {
          "output_type": "execute_result",
          "data": {
            "text/plain": [
              "['i', 'am', 'an', 'indian', 'and', 'i', 'live', 'in', 'india']"
            ]
          },
          "metadata": {},
          "execution_count": 6
        }
      ]
    },
    {
      "cell_type": "code",
      "source": [
        "query_counter=Counter(query_tokens)"
      ],
      "metadata": {
        "id": "MnY_x-yvRgRY"
      },
      "execution_count": 13,
      "outputs": []
    },
    {
      "cell_type": "code",
      "source": [
        "document_tokens=document.lower().split(\" \")"
      ],
      "metadata": {
        "id": "RKx4m79IQ_X7"
      },
      "execution_count": 7,
      "outputs": []
    },
    {
      "cell_type": "code",
      "source": [
        "document_tokens"
      ],
      "metadata": {
        "colab": {
          "base_uri": "https://localhost:8080/"
        },
        "id": "QQgmYXsuRBx_",
        "outputId": "87b3c162-3348-44eb-ab23-1553e0db33fa"
      },
      "execution_count": 8,
      "outputs": [
        {
          "output_type": "execute_result",
          "data": {
            "text/plain": [
              "['india', 'is', 'a', 'country', 'for', 'indians', 'and', 'for', 'everyone']"
            ]
          },
          "metadata": {},
          "execution_count": 8
        }
      ]
    },
    {
      "cell_type": "code",
      "source": [
        "query_counter=Counter(query_tokens)\n"
      ],
      "metadata": {
        "id": "yo89rhkzREfx"
      },
      "execution_count": 9,
      "outputs": []
    },
    {
      "cell_type": "code",
      "source": [
        "document_counter=Counter(document_tokens)"
      ],
      "metadata": {
        "id": "MU7ultHdRHHt"
      },
      "execution_count": 10,
      "outputs": []
    },
    {
      "cell_type": "code",
      "source": [
        "document_counter"
      ],
      "metadata": {
        "colab": {
          "base_uri": "https://localhost:8080/"
        },
        "id": "mZ_9tsFLRKea",
        "outputId": "05a6bff2-4be5-4b1e-b5e4-2608a5dd3bbe"
      },
      "execution_count": 11,
      "outputs": [
        {
          "output_type": "execute_result",
          "data": {
            "text/plain": [
              "Counter({'india': 1,\n",
              "         'is': 1,\n",
              "         'a': 1,\n",
              "         'country': 1,\n",
              "         'for': 2,\n",
              "         'indians': 1,\n",
              "         'and': 1,\n",
              "         'everyone': 1})"
            ]
          },
          "metadata": {},
          "execution_count": 11
        }
      ]
    },
    {
      "cell_type": "code",
      "source": [
        "embed=[]\n",
        "for token in  query_counter.keys():\n",
        "  embed.append(query_counter[token])"
      ],
      "metadata": {
        "id": "gfLJWWiSRMrR"
      },
      "execution_count": 12,
      "outputs": []
    },
    {
      "cell_type": "code",
      "source": [
        "embed"
      ],
      "metadata": {
        "colab": {
          "base_uri": "https://localhost:8080/"
        },
        "id": "rB38HnkMRT4c",
        "outputId": "1971766c-476c-49b7-cbe5-8b84be74adae"
      },
      "execution_count": 14,
      "outputs": [
        {
          "output_type": "execute_result",
          "data": {
            "text/plain": [
              "[2, 1, 1, 1, 1, 1, 1, 1]"
            ]
          },
          "metadata": {},
          "execution_count": 14
        }
      ]
    },
    {
      "cell_type": "code",
      "source": [
        "embed2=[]\n",
        "for token in  document_counter.keys():\n",
        "  embed2.append(document_counter[token])"
      ],
      "metadata": {
        "id": "Jjf1_qRkRlla"
      },
      "execution_count": 15,
      "outputs": []
    },
    {
      "cell_type": "code",
      "source": [
        "embed2"
      ],
      "metadata": {
        "colab": {
          "base_uri": "https://localhost:8080/"
        },
        "id": "hjhPcDZdRv0Y",
        "outputId": "1d2f517a-2c32-4e15-9355-7b97a3b85658"
      },
      "execution_count": 16,
      "outputs": [
        {
          "output_type": "execute_result",
          "data": {
            "text/plain": [
              "[1, 1, 1, 1, 2, 1, 1, 1]"
            ]
          },
          "metadata": {},
          "execution_count": 16
        }
      ]
    },
    {
      "cell_type": "code",
      "source": [
        "user_query"
      ],
      "metadata": {
        "colab": {
          "base_uri": "https://localhost:8080/",
          "height": 35
        },
        "id": "r_WyJg5VRyOH",
        "outputId": "e1f72ea1-d760-4f1d-ba25-7bad84251a40"
      },
      "execution_count": 17,
      "outputs": [
        {
          "output_type": "execute_result",
          "data": {
            "text/plain": [
              "'i am an indian and i live in india'"
            ],
            "application/vnd.google.colaboratory.intrinsic+json": {
              "type": "string"
            }
          },
          "metadata": {},
          "execution_count": 17
        }
      ]
    },
    {
      "cell_type": "code",
      "source": [
        "user_query2='i am an indian and i live in india and i love indian food'"
      ],
      "metadata": {
        "id": "wIzmzplTR27l"
      },
      "execution_count": 18,
      "outputs": []
    },
    {
      "cell_type": "code",
      "source": [
        "query2_tokens=user_query2.lower().split(\" \")"
      ],
      "metadata": {
        "id": "6MVO5l1jR5P_"
      },
      "execution_count": 19,
      "outputs": []
    },
    {
      "cell_type": "code",
      "source": [
        "query2_tokens=Counter(query2_tokens)\n"
      ],
      "metadata": {
        "id": "mCkWIZ2AS1EE"
      },
      "execution_count": 26,
      "outputs": []
    },
    {
      "cell_type": "code",
      "source": [
        "document"
      ],
      "metadata": {
        "colab": {
          "base_uri": "https://localhost:8080/",
          "height": 35
        },
        "id": "AqjsPrOoR_zE",
        "outputId": "50ef6640-fb6d-4657-8973-226e88ce1143"
      },
      "execution_count": 20,
      "outputs": [
        {
          "output_type": "execute_result",
          "data": {
            "text/plain": [
              "'india is a country for indians and for everyone'"
            ],
            "application/vnd.google.colaboratory.intrinsic+json": {
              "type": "string"
            }
          },
          "metadata": {},
          "execution_count": 20
        }
      ]
    },
    {
      "cell_type": "code",
      "source": [
        "document2=\"india is a country for indians and for everyone and for those who loves indian food\""
      ],
      "metadata": {
        "id": "fbCvISFvSDXm"
      },
      "execution_count": 21,
      "outputs": []
    },
    {
      "cell_type": "code",
      "source": [
        "document2_tokens=document2.lower().split(\" \")"
      ],
      "metadata": {
        "id": "wuJfqPxjSElg"
      },
      "execution_count": 22,
      "outputs": []
    },
    {
      "cell_type": "code",
      "source": [
        "document2_tokens=Counter(document2_tokens)"
      ],
      "metadata": {
        "id": "sAOldImfSjj1"
      },
      "execution_count": 24,
      "outputs": []
    },
    {
      "cell_type": "code",
      "source": [
        "# similarity score between this user_query and this document\n",
        "for tokens in query2_tokens.keys() & document2_tokens.keys():\n",
        "  print(tokens)"
      ],
      "metadata": {
        "colab": {
          "base_uri": "https://localhost:8080/"
        },
        "id": "27YdQPc1SHLZ",
        "outputId": "8bdee610-261a-4ed6-96d7-bbdc716cd9cb"
      },
      "execution_count": 27,
      "outputs": [
        {
          "output_type": "stream",
          "name": "stdout",
          "text": [
            "food\n",
            "and\n",
            "indian\n",
            "india\n"
          ]
        }
      ]
    },
    {
      "cell_type": "code",
      "source": [
        "mylist=[]\n",
        "for tokens in query_counter.keys() & document_counter.keys():\n",
        "    mylist.append(query_counter[tokens]*document_counter[tokens])"
      ],
      "metadata": {
        "id": "I0UhCHPsSTwY"
      },
      "execution_count": 28,
      "outputs": []
    },
    {
      "cell_type": "code",
      "source": [
        "mylist"
      ],
      "metadata": {
        "colab": {
          "base_uri": "https://localhost:8080/"
        },
        "id": "FoHkyH3ZTQTf",
        "outputId": "869f0c49-4457-4f29-de22-f5746d85b937"
      },
      "execution_count": 29,
      "outputs": [
        {
          "output_type": "execute_result",
          "data": {
            "text/plain": [
              "[1, 1]"
            ]
          },
          "metadata": {},
          "execution_count": 29
        }
      ]
    },
    {
      "cell_type": "code",
      "source": [
        "query_counter"
      ],
      "metadata": {
        "colab": {
          "base_uri": "https://localhost:8080/"
        },
        "id": "UxHHQQBETTif",
        "outputId": "8046cd8e-11ad-4270-cea8-9f72870d175b"
      },
      "execution_count": 30,
      "outputs": [
        {
          "output_type": "execute_result",
          "data": {
            "text/plain": [
              "Counter({'i': 2,\n",
              "         'am': 1,\n",
              "         'an': 1,\n",
              "         'indian': 1,\n",
              "         'and': 1,\n",
              "         'live': 1,\n",
              "         'in': 1,\n",
              "         'india': 1})"
            ]
          },
          "metadata": {},
          "execution_count": 30
        }
      ]
    },
    {
      "cell_type": "code",
      "source": [
        "document_counter"
      ],
      "metadata": {
        "colab": {
          "base_uri": "https://localhost:8080/"
        },
        "id": "gECEDMk4TbIX",
        "outputId": "50cf20bf-4cc5-458f-b49f-2815cbcf1cb6"
      },
      "execution_count": 31,
      "outputs": [
        {
          "output_type": "execute_result",
          "data": {
            "text/plain": [
              "Counter({'india': 1,\n",
              "         'is': 1,\n",
              "         'a': 1,\n",
              "         'country': 1,\n",
              "         'for': 2,\n",
              "         'indians': 1,\n",
              "         'and': 1,\n",
              "         'everyone': 1})"
            ]
          },
          "metadata": {},
          "execution_count": 31
        }
      ]
    },
    {
      "cell_type": "code",
      "source": [
        "dotproduct=sum(mylist)"
      ],
      "metadata": {
        "id": "rlgnT8G5TmJ1"
      },
      "execution_count": 32,
      "outputs": []
    },
    {
      "cell_type": "code",
      "source": [
        "dotproduct"
      ],
      "metadata": {
        "colab": {
          "base_uri": "https://localhost:8080/"
        },
        "id": "YralTVymY8ZE",
        "outputId": "69199930-c0e8-4ed2-9d5f-7dea7b26b5ce"
      },
      "execution_count": 33,
      "outputs": [
        {
          "output_type": "execute_result",
          "data": {
            "text/plain": [
              "2"
            ]
          },
          "metadata": {},
          "execution_count": 33
        }
      ]
    },
    {
      "cell_type": "code",
      "source": [
        "query_magnitude=math.sqrt(sum(query_counter[token]**2 for token in query_counter))"
      ],
      "metadata": {
        "id": "Qc6hAzkQY-Ey"
      },
      "execution_count": 34,
      "outputs": []
    },
    {
      "cell_type": "code",
      "source": [
        "document_magnitude = math.sqrt(sum(document_counter[token] ** 2 for token in document_counter))"
      ],
      "metadata": {
        "id": "EvSUdH5aZbDQ"
      },
      "execution_count": 35,
      "outputs": []
    },
    {
      "cell_type": "code",
      "source": [
        "similarity=(dotproduct)/(query_magnitude*document_magnitude)"
      ],
      "metadata": {
        "id": "stFbfVwqZhnl"
      },
      "execution_count": 37,
      "outputs": []
    },
    {
      "cell_type": "code",
      "source": [
        "similarity"
      ],
      "metadata": {
        "colab": {
          "base_uri": "https://localhost:8080/"
        },
        "id": "e95kW0KoZqcA",
        "outputId": "d7403264-c238-4f8b-e23d-11f47ee178b4"
      },
      "execution_count": 38,
      "outputs": [
        {
          "output_type": "execute_result",
          "data": {
            "text/plain": [
              "0.18181818181818182"
            ]
          },
          "metadata": {},
          "execution_count": 38
        }
      ]
    },
    {
      "cell_type": "code",
      "source": [
        "def cosine_similarity(query, document):\n",
        "    # Tokenize and convert to lowercase\n",
        "    query_tokens = query.lower().split(\" \")\n",
        "    document_tokens = document.lower().split(\" \")\n",
        "\n",
        "    # Create Counters for query and document\n",
        "    query_counter = Counter(query_tokens)\n",
        "    document_counter = Counter(document_tokens)\n",
        "\n",
        "    # Calculate dot product\n",
        "    dot_product = sum(query_counter[token] * document_counter[token] for token in query_counter.keys() & document_counter.keys())\n",
        "\n",
        "    # Calculate magnitudes\n",
        "    query_magnitude = math.sqrt(sum(query_counter[token] ** 2 for token in query_counter))\n",
        "    document_magnitude = math.sqrt(sum(document_counter[token] ** 2 for token in document_counter))\n",
        "\n",
        "    # Calculate cosine similarity\n",
        "    similarity = dot_product / (query_magnitude * document_magnitude) if query_magnitude * document_magnitude != 0 else 0\n",
        "\n",
        "    return similarity"
      ],
      "metadata": {
        "id": "NUPc3sKcZu4j"
      },
      "execution_count": 39,
      "outputs": []
    },
    {
      "cell_type": "code",
      "source": [
        "user_query=\"is sunny good data scientist and genai engineer?\""
      ],
      "metadata": {
        "id": "Le71IrO_Z0Zu"
      },
      "execution_count": 40,
      "outputs": []
    },
    {
      "cell_type": "code",
      "source": [
        "user_query=\"does srikant good with devops devlopment?\""
      ],
      "metadata": {
        "id": "Tg_yV8LiaPi5"
      },
      "execution_count": 41,
      "outputs": []
    },
    {
      "cell_type": "code",
      "source": [
        "document=\"sunny is a genai engineer and he is very good with data science and machine learning\""
      ],
      "metadata": {
        "id": "z8bCd4iGaSc8"
      },
      "execution_count": 42,
      "outputs": []
    },
    {
      "cell_type": "code",
      "source": [
        "user_query=\"i love india and indian food.\""
      ],
      "metadata": {
        "id": "yNETu0c4aUuC"
      },
      "execution_count": 43,
      "outputs": []
    },
    {
      "cell_type": "code",
      "source": [
        "document=\"i love india and indian food.\""
      ],
      "metadata": {
        "id": "U3ab3xwtaX_g"
      },
      "execution_count": 44,
      "outputs": []
    },
    {
      "cell_type": "code",
      "source": [
        "cosine_similarity(user_query,document)"
      ],
      "metadata": {
        "colab": {
          "base_uri": "https://localhost:8080/"
        },
        "id": "xHXSA2n9abmB",
        "outputId": "8df9141e-fd54-4960-feac-792a7ccc1a96"
      },
      "execution_count": 45,
      "outputs": [
        {
          "output_type": "execute_result",
          "data": {
            "text/plain": [
              "1.0000000000000002"
            ]
          },
          "metadata": {},
          "execution_count": 45
        }
      ]
    },
    {
      "cell_type": "code",
      "source": [
        "!pip install --upgrade openai"
      ],
      "metadata": {
        "colab": {
          "base_uri": "https://localhost:8080/"
        },
        "id": "NEXT6U8DaeCR",
        "outputId": "efb82579-2692-4509-89a0-3a7dd07de0da"
      },
      "execution_count": 46,
      "outputs": [
        {
          "output_type": "stream",
          "name": "stdout",
          "text": [
            "Collecting openai\n",
            "  Downloading openai-1.23.3-py3-none-any.whl (311 kB)\n",
            "\u001b[?25l     \u001b[90m━━━━━━━━━━━━━━━━━━━━━━━━━━━━━━━━━━━━━━━━\u001b[0m \u001b[32m0.0/311.5 kB\u001b[0m \u001b[31m?\u001b[0m eta \u001b[36m-:--:--\u001b[0m\r\u001b[2K     \u001b[91m━━━━━━\u001b[0m\u001b[91m╸\u001b[0m\u001b[90m━━━━━━━━━━━━━━━━━━━━━━━━━━━━━━━━━\u001b[0m \u001b[32m51.2/311.5 kB\u001b[0m \u001b[31m1.2 MB/s\u001b[0m eta \u001b[36m0:00:01\u001b[0m\r\u001b[2K     \u001b[91m━━━━━━━━━━━━━━━━━━\u001b[0m\u001b[90m╺\u001b[0m\u001b[90m━━━━━━━━━━━━━━━━━━━━━\u001b[0m \u001b[32m143.4/311.5 kB\u001b[0m \u001b[31m2.0 MB/s\u001b[0m eta \u001b[36m0:00:01\u001b[0m\r\u001b[2K     \u001b[91m━━━━━━━━━━━━━━━━━━━━━━━━━━━━━━━━━━━━━━━\u001b[0m\u001b[90m╺\u001b[0m \u001b[32m307.2/311.5 kB\u001b[0m \u001b[31m3.0 MB/s\u001b[0m eta \u001b[36m0:00:01\u001b[0m\r\u001b[2K     \u001b[90m━━━━━━━━━━━━━━━━━━━━━━━━━━━━━━━━━━━━━━━━\u001b[0m \u001b[32m311.5/311.5 kB\u001b[0m \u001b[31m2.8 MB/s\u001b[0m eta \u001b[36m0:00:00\u001b[0m\n",
            "\u001b[?25hRequirement already satisfied: anyio<5,>=3.5.0 in /usr/local/lib/python3.10/dist-packages (from openai) (3.7.1)\n",
            "Requirement already satisfied: distro<2,>=1.7.0 in /usr/lib/python3/dist-packages (from openai) (1.7.0)\n",
            "Collecting httpx<1,>=0.23.0 (from openai)\n",
            "  Downloading httpx-0.27.0-py3-none-any.whl (75 kB)\n",
            "\u001b[2K     \u001b[90m━━━━━━━━━━━━━━━━━━━━━━━━━━━━━━━━━━━━━━━━\u001b[0m \u001b[32m75.6/75.6 kB\u001b[0m \u001b[31m10.4 MB/s\u001b[0m eta \u001b[36m0:00:00\u001b[0m\n",
            "\u001b[?25hRequirement already satisfied: pydantic<3,>=1.9.0 in /usr/local/lib/python3.10/dist-packages (from openai) (2.7.0)\n",
            "Requirement already satisfied: sniffio in /usr/local/lib/python3.10/dist-packages (from openai) (1.3.1)\n",
            "Requirement already satisfied: tqdm>4 in /usr/local/lib/python3.10/dist-packages (from openai) (4.66.2)\n",
            "Requirement already satisfied: typing-extensions<5,>=4.7 in /usr/local/lib/python3.10/dist-packages (from openai) (4.11.0)\n",
            "Requirement already satisfied: idna>=2.8 in /usr/local/lib/python3.10/dist-packages (from anyio<5,>=3.5.0->openai) (3.7)\n",
            "Requirement already satisfied: exceptiongroup in /usr/local/lib/python3.10/dist-packages (from anyio<5,>=3.5.0->openai) (1.2.1)\n",
            "Requirement already satisfied: certifi in /usr/local/lib/python3.10/dist-packages (from httpx<1,>=0.23.0->openai) (2024.2.2)\n",
            "Collecting httpcore==1.* (from httpx<1,>=0.23.0->openai)\n",
            "  Downloading httpcore-1.0.5-py3-none-any.whl (77 kB)\n",
            "\u001b[2K     \u001b[90m━━━━━━━━━━━━━━━━━━━━━━━━━━━━━━━━━━━━━━━━\u001b[0m \u001b[32m77.9/77.9 kB\u001b[0m \u001b[31m11.1 MB/s\u001b[0m eta \u001b[36m0:00:00\u001b[0m\n",
            "\u001b[?25hCollecting h11<0.15,>=0.13 (from httpcore==1.*->httpx<1,>=0.23.0->openai)\n",
            "  Downloading h11-0.14.0-py3-none-any.whl (58 kB)\n",
            "\u001b[2K     \u001b[90m━━━━━━━━━━━━━━━━━━━━━━━━━━━━━━━━━━━━━━━━\u001b[0m \u001b[32m58.3/58.3 kB\u001b[0m \u001b[31m8.6 MB/s\u001b[0m eta \u001b[36m0:00:00\u001b[0m\n",
            "\u001b[?25hRequirement already satisfied: annotated-types>=0.4.0 in /usr/local/lib/python3.10/dist-packages (from pydantic<3,>=1.9.0->openai) (0.6.0)\n",
            "Requirement already satisfied: pydantic-core==2.18.1 in /usr/local/lib/python3.10/dist-packages (from pydantic<3,>=1.9.0->openai) (2.18.1)\n",
            "Installing collected packages: h11, httpcore, httpx, openai\n",
            "Successfully installed h11-0.14.0 httpcore-1.0.5 httpx-0.27.0 openai-1.23.3\n"
          ]
        }
      ]
    },
    {
      "cell_type": "code",
      "source": [
        "OPENAI_API_KEY=\"sk-proj-1qtuYwlKEvyPT79KpJDFT3BlbkFJort5CugZkHvowTNALOIG\""
      ],
      "metadata": {
        "id": "2-axHRJzbLw6"
      },
      "execution_count": 47,
      "outputs": []
    },
    {
      "cell_type": "code",
      "source": [
        "from openai import OpenAI\n",
        "client=OpenAI(api_key=OPENAI_API_KEY)"
      ],
      "metadata": {
        "id": "J-qqsuVDbbBn"
      },
      "execution_count": 50,
      "outputs": []
    },
    {
      "cell_type": "code",
      "source": [
        "completion=client.chat.completions.create(\n",
        "    model=\"gpt-3.5-turbo\",\n",
        "    messages=[\n",
        "        {\"role\":\"system\",\"content\":\"You are an helpful assistant.\"},\n",
        "        {\"role\":\"user\",\"content\":\"Can you tell me who will be the primeminister of India in 2024\"}\n",
        "    ]\n",
        ")"
      ],
      "metadata": {
        "id": "VfYcpiVmbmPW"
      },
      "execution_count": 52,
      "outputs": []
    },
    {
      "cell_type": "code",
      "source": [
        "print(completion.choices[0].message.content)"
      ],
      "metadata": {
        "colab": {
          "base_uri": "https://localhost:8080/"
        },
        "id": "NzAcBRQ5cgbU",
        "outputId": "6ed5c749-3d1f-4126-d95b-d4e8883890ae"
      },
      "execution_count": 53,
      "outputs": [
        {
          "output_type": "stream",
          "name": "stdout",
          "text": [
            "I'm sorry, but I cannot predict future events such as who will be the Prime Minister of India in 2024. Political situations can change rapidly, and it is impossible to accurately predict such outcomes.\n"
          ]
        }
      ]
    },
    {
      "cell_type": "code",
      "source": [
        "print(completion)"
      ],
      "metadata": {
        "colab": {
          "base_uri": "https://localhost:8080/"
        },
        "id": "GNcpUf7Wc8xh",
        "outputId": "abbcf16d-6e98-4509-9b6a-ec52d1d3d296"
      },
      "execution_count": 55,
      "outputs": [
        {
          "output_type": "stream",
          "name": "stdout",
          "text": [
            "ChatCompletion(id='chatcmpl-9HTHEAHgrmXwW0Swlu154QctOzFMd', choices=[Choice(finish_reason='stop', index=0, logprobs=None, message=ChatCompletionMessage(content=\"I'm sorry, but I cannot predict future events such as who will be the Prime Minister of India in 2024. Political situations can change rapidly, and it is impossible to accurately predict such outcomes.\", role='assistant', function_call=None, tool_calls=None))], created=1713951144, model='gpt-3.5-turbo-0125', object='chat.completion', system_fingerprint='fp_c2295e73ad', usage=CompletionUsage(completion_tokens=41, prompt_tokens=34, total_tokens=75))\n"
          ]
        }
      ]
    },
    {
      "cell_type": "code",
      "source": [
        "def return_response(query, corpus):\n",
        "    similarities = []\n",
        "    for doc in corpus:\n",
        "        similarity = cosine_similarity(query, doc)\n",
        "        similarities.append(similarity)\n",
        "    return corpus_of_documents[similarities.index(max(similarities))]\n",
        ""
      ],
      "metadata": {
        "id": "KPmAh3xRc_gL"
      },
      "execution_count": 80,
      "outputs": []
    },
    {
      "cell_type": "code",
      "source": [
        "corpus_of_documents = [\n",
        "    \"Take a stroll along the beach and feel the sand between your toes.\",\n",
        "    \"Explore a nearby forest and marvel at the towering trees.\",\n",
        "    \"Join a photography club and capture the beauty of the world.\",\n",
        "    \"Volunteer at a local charity and make a positive difference.\",\n",
        "    \"Attend a cooking class and learn to create delicious dishes.\",\n",
        "    \"Visit an art gallery and immerse yourself in creativity.\",\n",
        "    \"Go on a road trip and discover hidden gems along the way.\",\n",
        "    \"Take a dance lesson and let music guide your movements.\",\n",
        "    \"Host a game night with friends and enjoy friendly competition.\",\n",
        "    \"Attend a meditation retreat and find inner peace.\"\n",
        "]"
      ],
      "metadata": {
        "id": "Jk3ilyjigLXF"
      },
      "execution_count": 91,
      "outputs": []
    },
    {
      "cell_type": "code",
      "source": [
        "user_query=\"is meditation good for inner peace?\""
      ],
      "metadata": {
        "id": "TRX2bAyigMmd"
      },
      "execution_count": 85,
      "outputs": []
    },
    {
      "cell_type": "code",
      "source": [
        "return_response(user_query, corpus_of_documents)"
      ],
      "metadata": {
        "colab": {
          "base_uri": "https://localhost:8080/",
          "height": 35
        },
        "id": "tiSYvAlygRud",
        "outputId": "7313030b-aa27-4c92-cb32-ff50d7593dad"
      },
      "execution_count": 86,
      "outputs": [
        {
          "output_type": "execute_result",
          "data": {
            "text/plain": [
              "'Attend a meditation retreat and find inner peace.'"
            ],
            "application/vnd.google.colaboratory.intrinsic+json": {
              "type": "string"
            }
          },
          "metadata": {},
          "execution_count": 86
        }
      ]
    },
    {
      "cell_type": "code",
      "source": [
        "user_input='How to spend fun time with friends?'\n"
      ],
      "metadata": {
        "id": "5n9mid7Tgtgb"
      },
      "execution_count": 98,
      "outputs": []
    },
    {
      "cell_type": "code",
      "source": [
        "relevant_document=return_response(user_input, corpus_of_documents)"
      ],
      "metadata": {
        "id": "QXXl9MavgbiZ"
      },
      "execution_count": 99,
      "outputs": []
    },
    {
      "cell_type": "code",
      "source": [
        "relevant_document"
      ],
      "metadata": {
        "colab": {
          "base_uri": "https://localhost:8080/",
          "height": 35
        },
        "id": "o3eOBpMbhMcr",
        "outputId": "dbad5664-0619-45c5-a3b1-b69ac9590f7e"
      },
      "execution_count": 100,
      "outputs": [
        {
          "output_type": "execute_result",
          "data": {
            "text/plain": [
              "'Attend a cooking class and learn to create delicious dishes.'"
            ],
            "application/vnd.google.colaboratory.intrinsic+json": {
              "type": "string"
            }
          },
          "metadata": {},
          "execution_count": 100
        }
      ]
    },
    {
      "cell_type": "code",
      "source": [
        "prompt = f\"\"\"\n",
        "This is the given information: {relevant_document}\n",
        "The user input is: {user_input}\n",
        "Compile a final information to the user based on the given information and the user input.\n",
        "\"\"\""
      ],
      "metadata": {
        "id": "mKlQV8W0gku5"
      },
      "execution_count": 101,
      "outputs": []
    },
    {
      "cell_type": "code",
      "source": [
        "print(prompt)"
      ],
      "metadata": {
        "colab": {
          "base_uri": "https://localhost:8080/"
        },
        "id": "vuRuLf_rg2tu",
        "outputId": "ae2616c4-1799-4b17-f915-4f4be9f457d3"
      },
      "execution_count": 103,
      "outputs": [
        {
          "output_type": "stream",
          "name": "stdout",
          "text": [
            "\n",
            "This is the given information: Attend a cooking class and learn to create delicious dishes.\n",
            "The user input is: How to spend fun time with friends?\n",
            "Compile a final information to the user based on the given information and the user input.\n",
            "\n"
          ]
        }
      ]
    },
    {
      "cell_type": "code",
      "source": [
        "completion = client.chat.completions.create(\n",
        "  model=\"gpt-3.5-turbo\",\n",
        "  messages=[\n",
        "    {\"role\": \"system\", \"content\": \"you are sarcastic bot\"},\n",
        "    {\"role\": \"user\", \"content\":prompt }\n",
        "  ]\n",
        ")"
      ],
      "metadata": {
        "id": "XFzkad0akQAf"
      },
      "execution_count": 104,
      "outputs": []
    },
    {
      "cell_type": "code",
      "source": [
        "print(completion.choices[0].message.content)"
      ],
      "metadata": {
        "colab": {
          "base_uri": "https://localhost:8080/"
        },
        "id": "DmEi4p1lkrva",
        "outputId": "5c042a0a-9fc5-46e3-e872-fa78b0a06a5c"
      },
      "execution_count": 105,
      "outputs": [
        {
          "output_type": "stream",
          "name": "stdout",
          "text": [
            "Oh, yes, because clearly attending a cooking class is the only way to have fun with friends. Because who needs variety or personal preferences, right?\n"
          ]
        }
      ]
    },
    {
      "cell_type": "code",
      "source": [],
      "metadata": {
        "id": "v7NBUxcOkwUs"
      },
      "execution_count": null,
      "outputs": []
    }
  ]
}